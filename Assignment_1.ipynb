{
 "cells": [
  {
   "cell_type": "markdown",
   "id": "c7a91e10-d453-482c-8498-6826c2d59bbb",
   "metadata": {},
   "source": [
    "Basic variable based questions"
   ]
  },
  {
   "cell_type": "markdown",
   "id": "14270f62-3fb5-437d-b2ed-3933c9b232a2",
   "metadata": {},
   "source": [
    "1. Declare two variables, `x` and `y`, and assign them integer values. Swap the values of these variables without using any temporary variable."
   ]
  },
  {
   "cell_type": "code",
   "execution_count": 1,
   "id": "a08d8b08-17fe-4350-bc07-dbb89a7fc7b3",
   "metadata": {},
   "outputs": [],
   "source": [
    "x=10\n",
    "y=15\n",
    "x,y=y,x"
   ]
  },
  {
   "cell_type": "code",
   "execution_count": 2,
   "id": "fffac6a7-e889-40d8-932c-aa6628d75510",
   "metadata": {},
   "outputs": [
    {
     "name": "stdout",
     "output_type": "stream",
     "text": [
      "15\n",
      "10\n"
     ]
    }
   ],
   "source": [
    "print(x)\n",
    "print(y)"
   ]
  },
  {
   "cell_type": "markdown",
   "id": "4c712285-58b0-4359-aa97-76796987b554",
   "metadata": {},
   "source": [
    "2. Create a program that calculates the area of a rectangle. Take the length and width as inputs from the user and store them in variables. Calculate and display the area."
   ]
  },
  {
   "cell_type": "code",
   "execution_count": 7,
   "id": "7e11ed0e-5fe8-4e21-bfbc-1f0ef07e0300",
   "metadata": {},
   "outputs": [
    {
     "name": "stdin",
     "output_type": "stream",
     "text": [
      "Enter any length in cm :  10\n",
      "Enter any width in cm :  15\n"
     ]
    },
    {
     "name": "stdout",
     "output_type": "stream",
     "text": [
      "The area of rectangle is 150.0 cm2\n"
     ]
    }
   ],
   "source": [
    "length=float(input(\"Enter any length in cm : \"))\n",
    "width=float(input(\"Enter any width in cm : \"))\n",
    "area_of_rectangle=length*width\n",
    "print(f'The area of rectangle is {area_of_rectangle} cm2')"
   ]
  },
  {
   "cell_type": "markdown",
   "id": "54f5d1c5-6bf1-4895-8b19-62cd0666e93e",
   "metadata": {},
   "source": [
    "3. Write a Python program that converts temperatures from Celsius to Fahrenheit. Take the temperature in Celsius as input, store it in a variable, convert it to Fahrenheit, and display the result."
   ]
  },
  {
   "cell_type": "code",
   "execution_count": 18,
   "id": "829eb086-273c-4535-95de-e5212a841833",
   "metadata": {},
   "outputs": [
    {
     "name": "stdin",
     "output_type": "stream",
     "text": [
      "The fahrenheit is :  15\n"
     ]
    },
    {
     "name": "stdout",
     "output_type": "stream",
     "text": [
      "The 15 degree is equal to 59.0 Fahrenheit\n"
     ]
    }
   ],
   "source": [
    "celsius=int(input(\"The fahrenheit is : \"))\n",
    "def temp(celsius):\n",
    "    fahrenheit=(celsius*1.8)+32\n",
    "    return fahrenheit\n",
    "temp(celsius)\n",
    "print(f\"The {celsius} degree is equal to {temp(celsius)} Fahrenheit\")"
   ]
  },
  {
   "cell_type": "markdown",
   "id": "7fe4e07d-5d16-4123-98ca-485a9e3a90f3",
   "metadata": {},
   "source": [
    "String based questions "
   ]
  },
  {
   "cell_type": "markdown",
   "id": "59ba9504-744b-4028-8b1f-843bfee91c34",
   "metadata": {},
   "source": [
    "1. Write a Python program that takes a string as input and prints the length of the string."
   ]
  },
  {
   "cell_type": "code",
   "execution_count": 19,
   "id": "3841c874-7c65-4b1c-9eab-cc8571323436",
   "metadata": {},
   "outputs": [
    {
     "name": "stdin",
     "output_type": "stream",
     "text": [
      "Enter any string :  Hello Python\n"
     ]
    },
    {
     "name": "stdout",
     "output_type": "stream",
     "text": [
      "The length of Hello Python is 12\n"
     ]
    }
   ],
   "source": [
    "string=input(\"Enter any string : \")\n",
    "\n",
    "length=len(string)\n",
    "print(f\"The length of {string} is {length}\")"
   ]
  },
  {
   "cell_type": "markdown",
   "id": "e3bd0c06-dc20-4f3a-bae1-9cff4487674f",
   "metadata": {},
   "source": [
    "2. Create a program that takes a sentence from the user and counts the number of vowels (a, e, i, o, u) in the string."
   ]
  },
  {
   "cell_type": "code",
   "execution_count": 25,
   "id": "c22f1638-e1cb-4782-a779-2f8c50c47f98",
   "metadata": {},
   "outputs": [
    {
     "name": "stdin",
     "output_type": "stream",
     "text": [
      "The sentence is :  Hello World this python program made by me\n"
     ]
    },
    {
     "data": {
      "text/plain": [
       "{'a': 2, 'e': 3, 'i': 1, 'o': 4, 'u': 0}"
      ]
     },
     "execution_count": 25,
     "metadata": {},
     "output_type": "execute_result"
    }
   ],
   "source": [
    "sentence=input(\"The sentence is : \")\n",
    "lst=['a','e','i','o','u']\n",
    "dic={}\n",
    "for i in lst:\n",
    "    if i not in dic:\n",
    "        dic[i]=sentence.lower().count(i)\n",
    "dic"
   ]
  },
  {
   "cell_type": "markdown",
   "id": "207a35dc-8ebd-46cf-9cb1-49d82acee7e7",
   "metadata": {},
   "source": [
    "3. Given a string, reverse the order of characters using string slicing and print the reversed string."
   ]
  },
  {
   "cell_type": "code",
   "execution_count": 27,
   "id": "0b601418-55fa-4ecd-8dfb-231b8c34c11c",
   "metadata": {},
   "outputs": [
    {
     "name": "stdin",
     "output_type": "stream",
     "text": [
      "The string is :  Hello\n"
     ]
    },
    {
     "name": "stdout",
     "output_type": "stream",
     "text": [
      "The reverse of Hello is olleH\n"
     ]
    }
   ],
   "source": [
    "string=input(\"The string is : \")\n",
    "reverse=string[::-1]\n",
    "print(f\"The reverse of {string} is {reverse}\")"
   ]
  },
  {
   "cell_type": "markdown",
   "id": "877bfdfb-5de8-43eb-9c3d-c59e7bb84ac7",
   "metadata": {},
   "source": [
    "4. Write a program that takes a string as input and checks if it is a palindrome (reads the same forwards and backwards)."
   ]
  },
  {
   "cell_type": "code",
   "execution_count": 30,
   "id": "bd7f6872-98b4-4783-a275-6c41732a5449",
   "metadata": {},
   "outputs": [
    {
     "name": "stdin",
     "output_type": "stream",
     "text": [
      "The string is :  Hello\n"
     ]
    },
    {
     "name": "stdout",
     "output_type": "stream",
     "text": [
      "The string is not palindrome\n"
     ]
    },
    {
     "data": {
      "text/plain": [
       "'olleH'"
      ]
     },
     "execution_count": 30,
     "metadata": {},
     "output_type": "execute_result"
    }
   ],
   "source": [
    "string=input(\"The string is : \")\n",
    "def is_palindrome(string):\n",
    "    reverse=string[::-1]\n",
    "    if string==reverse:\n",
    "        print(\"The stirng is palindrome\")\n",
    "    else:\n",
    "        print(\"The string is not palindrome\")\n",
    "    return reverse\n",
    "is_palindrome(string)"
   ]
  },
  {
   "cell_type": "markdown",
   "id": "88dbd44a-082f-4536-b08e-05ae4fb844a6",
   "metadata": {},
   "source": [
    "5. Create a program that takes a string as input and removes all the spaces from it. Print the modified string without spaces."
   ]
  },
  {
   "cell_type": "code",
   "execution_count": 32,
   "id": "81ab1ba0-c51e-473e-afa4-93c2de0957b6",
   "metadata": {},
   "outputs": [
    {
     "name": "stdin",
     "output_type": "stream",
     "text": [
      "The string is :        Hello   World  This is my thinking\n"
     ]
    },
    {
     "data": {
      "text/plain": [
       "'HelloWorldThisismythinking'"
      ]
     },
     "execution_count": 32,
     "metadata": {},
     "output_type": "execute_result"
    }
   ],
   "source": [
    "string=input(\"The string is : \")\n",
    "def spaces(string):\n",
    "    remove=string.replace(\" \",\"\")\n",
    "    return remove\n",
    "spaces(string)"
   ]
  }
 ],
 "metadata": {
  "kernelspec": {
   "display_name": "Python 3 (ipykernel)",
   "language": "python",
   "name": "python3"
  },
  "language_info": {
   "codemirror_mode": {
    "name": "ipython",
    "version": 3
   },
   "file_extension": ".py",
   "mimetype": "text/x-python",
   "name": "python",
   "nbconvert_exporter": "python",
   "pygments_lexer": "ipython3",
   "version": "3.10.8"
  }
 },
 "nbformat": 4,
 "nbformat_minor": 5
}
