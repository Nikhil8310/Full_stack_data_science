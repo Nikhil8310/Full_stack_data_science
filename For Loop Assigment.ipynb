{
 "cells": [
  {
   "cell_type": "code",
   "execution_count": 43,
   "id": "04c45bcb-1ca7-46c3-9ba1-c506b72cde07",
   "metadata": {},
   "outputs": [],
   "source": [
    "# Basic Level:"
   ]
  },
  {
   "cell_type": "code",
   "execution_count": 44,
   "id": "86d292df-d9d8-452e-a4de-182f4d87b6ba",
   "metadata": {},
   "outputs": [
    {
     "name": "stdout",
     "output_type": "stream",
     "text": [
      "1 2 3 4 5 6 7 8 9 10 "
     ]
    }
   ],
   "source": [
    "#1. Write a python program to print the numbers from 1 to 10 using a 'for' loop.\n",
    "for i in range(1,11):\n",
    "    print(i,end=\" \")\n"
   ]
  },
  {
   "cell_type": "code",
   "execution_count": 45,
   "id": "61f99806-2eda-4925-b2b3-0553772a5346",
   "metadata": {},
   "outputs": [
    {
     "name": "stdout",
     "output_type": "stream",
     "text": [
      "[1, 2, 3, 4, 5, 6, 7, 8, 9, 10]\n",
      "55\n"
     ]
    }
   ],
   "source": [
    "#2. Create a program that calculates the sum of all numbers in a list using a 'for' loop.\n",
    "lst=[x for x in range(1,11)]\n",
    "addition=0\n",
    "for i in lst:\n",
    "    addition+=i\n",
    "print(lst)\n",
    "print(addition)"
   ]
  },
  {
   "cell_type": "code",
   "execution_count": 46,
   "id": "db76ed36-46a6-4867-976e-1a8d75d5a1da",
   "metadata": {},
   "outputs": [
    {
     "name": "stdout",
     "output_type": "stream",
     "text": [
      "d l r o W   o l l e H "
     ]
    }
   ],
   "source": [
    "#3. Write a program to print the characters of a string in reverse order using a 'for' loop.\n",
    "y=\"Hello World\"\n",
    "for i in y[::-1]:\n",
    "    print(i,end=\" \")"
   ]
  },
  {
   "cell_type": "code",
   "execution_count": 47,
   "id": "1e771514-28c2-486f-8a1c-885519a4e43a",
   "metadata": {},
   "outputs": [
    {
     "name": "stdout",
     "output_type": "stream",
     "text": [
      "120\n"
     ]
    }
   ],
   "source": [
    "#4. Develop a program that finds the factorial of a given number using a 'for' loop.\n",
    "x=5\n",
    "factorial=1\n",
    "for i in range(1,x+1):\n",
    "    factorial*=i\n",
    "print(factorial)"
   ]
  },
  {
   "cell_type": "code",
   "execution_count": 48,
   "id": "222133b8-3582-4710-9e97-956e2b56c29c",
   "metadata": {},
   "outputs": [
    {
     "name": "stdin",
     "output_type": "stream",
     "text": [
      "Enter any number :  15\n"
     ]
    },
    {
     "name": "stdout",
     "output_type": "stream",
     "text": [
      "[15, 30, 45, 60, 75, 90, 105, 120, 135, 150]\n"
     ]
    }
   ],
   "source": [
    "#5. Create a program to print the multiplication table of a given number using a 'for' loop.\n",
    "num=int(input(\"Enter any number : \"))\n",
    "lst=[]\n",
    "for i in range(1,11):\n",
    "    lst.append(num*i)\n",
    "print(lst)"
   ]
  },
  {
   "cell_type": "code",
   "execution_count": 49,
   "id": "2dcc477e-a506-4b4d-8a5a-8e1a9eb9f8b7",
   "metadata": {},
   "outputs": [
    {
     "name": "stdout",
     "output_type": "stream",
     "text": [
      "The count of even 7 and odd 7 in list\n"
     ]
    }
   ],
   "source": [
    "#6. Write a program that counts the number of even and odd number in a list using a a 'for' loop.\n",
    "x=[y for y in range(1,15)]\n",
    "even_count=0\n",
    "odd_count=0\n",
    "for i in x:\n",
    "    if i%2==0:\n",
    "        even_count+=1\n",
    "    elif i%2!=0:\n",
    "        odd_count+=1\n",
    "print(f'The count of even {even_count} and odd {odd_count} in list')"
   ]
  },
  {
   "cell_type": "code",
   "execution_count": 50,
   "id": "22289640-c0d9-4d4a-89ca-9f47b8b31f95",
   "metadata": {},
   "outputs": [
    {
     "name": "stdout",
     "output_type": "stream",
     "text": [
      "[1, 4, 9, 16, 25]\n"
     ]
    }
   ],
   "source": [
    "#7. Develop a program that prints the squares of numbers from 1 to 5 using a `for` loop.\n",
    "square=[]\n",
    "for i in range(1,6):\n",
    "    square.append(i**2)\n",
    "print(square)"
   ]
  },
  {
   "cell_type": "code",
   "execution_count": 51,
   "id": "93ff3fbe-d32e-42ee-b01f-aa135eee924b",
   "metadata": {},
   "outputs": [
    {
     "name": "stdin",
     "output_type": "stream",
     "text": [
      "Enter any string :  Hello World!\n"
     ]
    },
    {
     "name": "stdout",
     "output_type": "stream",
     "text": [
      "12\n"
     ]
    }
   ],
   "source": [
    "#8. Create a program to find the length of a string without using the `len()` function.\n",
    "length=0\n",
    "string=str(input(\"Enter any string : \"))\n",
    "for i in string:\n",
    "    length+=1\n",
    "print(length)"
   ]
  },
  {
   "cell_type": "code",
   "execution_count": 52,
   "id": "2137ec9a-2763-4754-a1f3-4ce17acc1379",
   "metadata": {},
   "outputs": [
    {
     "name": "stdout",
     "output_type": "stream",
     "text": [
      "The average of numbers of list is 10.0\n"
     ]
    }
   ],
   "source": [
    "#9. Write a program that calculates the average of a list of numbers using a `for` loop.\n",
    "lst=[x for x in range(1,20)]\n",
    "addition=0\n",
    "length=0\n",
    "for i in lst:\n",
    "    addition+=i\n",
    "    length+=1\n",
    "print(f\"The average of numbers of list is {addition/length}\")"
   ]
  },
  {
   "cell_type": "code",
   "execution_count": 53,
   "id": "bdb871d6-40e3-4df0-98eb-409ebf62df2d",
   "metadata": {},
   "outputs": [],
   "source": [
    "#10. Develop a program that prints the first `n` Fibonacci numbers using a `for` loop.\n"
   ]
  },
  {
   "cell_type": "code",
   "execution_count": 54,
   "id": "8a92be2e-a9f4-41ad-8d84-bb4a72207a16",
   "metadata": {},
   "outputs": [],
   "source": [
    "# Intermediate Level:"
   ]
  },
  {
   "cell_type": "code",
   "execution_count": 55,
   "id": "9d7691d2-b6be-4d83-badb-65a800f74756",
   "metadata": {},
   "outputs": [
    {
     "name": "stdout",
     "output_type": "stream",
     "text": [
      "{2: 2, 3: 2, 4: 2, 5: 2, 7: 2, 8: 2, 9: 2}\n"
     ]
    }
   ],
   "source": [
    "# 11. Write a program to check if a given list contains any duplicates using a `for` loop.\n",
    "lst=[1,2,3,4,5,2,3,4,5,7,8,9,10,11,6,7,8,9]\n",
    "dup={}\n",
    "for i in lst:\n",
    "    if lst.count(i)>1:\n",
    "        dup[i]=lst.count(i)\n",
    "print(dup)"
   ]
  },
  {
   "cell_type": "code",
   "execution_count": 56,
   "id": "b1026234-87c9-4195-b8aa-7275287951f5",
   "metadata": {},
   "outputs": [
    {
     "name": "stdout",
     "output_type": "stream",
     "text": [
      "1 5 7 11 13 "
     ]
    }
   ],
   "source": [
    "# 12. Create a program that prints the prime numbers in a given range using a `for` loop.\n",
    "for i in range(1,15):\n",
    "    if i%2!=0 and i%3!=0:\n",
    "            print(i, end=\" \")"
   ]
  },
  {
   "cell_type": "markdown",
   "id": "5f358536-fb84-43dc-b2b5-2c041b65f059",
   "metadata": {},
   "source": []
  }
 ],
 "metadata": {
  "kernelspec": {
   "display_name": "Python 3 (ipykernel)",
   "language": "python",
   "name": "python3"
  },
  "language_info": {
   "codemirror_mode": {
    "name": "ipython",
    "version": 3
   },
   "file_extension": ".py",
   "mimetype": "text/x-python",
   "name": "python",
   "nbconvert_exporter": "python",
   "pygments_lexer": "ipython3",
   "version": "3.12.7"
  }
 },
 "nbformat": 4,
 "nbformat_minor": 5
}
