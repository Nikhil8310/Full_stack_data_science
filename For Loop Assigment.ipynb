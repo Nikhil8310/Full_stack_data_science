{
  "cells": [
    {
      "cell_type": "code",
      "execution_count": null,
      "id": "04c45bcb-1ca7-46c3-9ba1-c506b72cde07",
      "metadata": {
        "id": "04c45bcb-1ca7-46c3-9ba1-c506b72cde07"
      },
      "outputs": [],
      "source": [
        "# Basic Level:"
      ]
    },
    {
      "cell_type": "code",
      "execution_count": null,
      "id": "86d292df-d9d8-452e-a4de-182f4d87b6ba",
      "metadata": {
        "id": "86d292df-d9d8-452e-a4de-182f4d87b6ba",
        "outputId": "031814cf-9499-493d-b2d8-76d3bca59f7e"
      },
      "outputs": [
        {
          "name": "stdout",
          "output_type": "stream",
          "text": [
            "1 2 3 4 5 6 7 8 9 10 "
          ]
        }
      ],
      "source": [
        "#1. Write a python program to print the numbers from 1 to 10 using a 'for' loop.\n",
        "for i in range(1,11):\n",
        "    print(i,end=\" \")\n"
      ]
    },
    {
      "cell_type": "code",
      "execution_count": null,
      "id": "61f99806-2eda-4925-b2b3-0553772a5346",
      "metadata": {
        "id": "61f99806-2eda-4925-b2b3-0553772a5346",
        "outputId": "d2800c19-3ac6-483a-c87a-e2f7aeba7d8a"
      },
      "outputs": [
        {
          "name": "stdout",
          "output_type": "stream",
          "text": [
            "[1, 2, 3, 4, 5, 6, 7, 8, 9, 10]\n",
            "55\n"
          ]
        }
      ],
      "source": [
        "#2. Create a program that calculates the sum of all numbers in a list using a 'for' loop.\n",
        "lst=[x for x in range(1,11)]\n",
        "addition=0\n",
        "for i in lst:\n",
        "    addition+=i\n",
        "print(lst)\n",
        "print(addition)"
      ]
    },
    {
      "cell_type": "code",
      "execution_count": null,
      "id": "db76ed36-46a6-4867-976e-1a8d75d5a1da",
      "metadata": {
        "id": "db76ed36-46a6-4867-976e-1a8d75d5a1da",
        "outputId": "15a984e2-948e-4b26-bbcc-72b008bd5275"
      },
      "outputs": [
        {
          "name": "stdout",
          "output_type": "stream",
          "text": [
            "d l r o W   o l l e H "
          ]
        }
      ],
      "source": [
        "#3. Write a program to print the characters of a string in reverse order using a 'for' loop.\n",
        "y=\"Hello World\"\n",
        "for i in y[::-1]:\n",
        "    print(i,end=\" \")"
      ]
    },
    {
      "cell_type": "code",
      "execution_count": null,
      "id": "1e771514-28c2-486f-8a1c-885519a4e43a",
      "metadata": {
        "id": "1e771514-28c2-486f-8a1c-885519a4e43a",
        "outputId": "576317fe-1618-40f1-d5bf-c26d216094bd"
      },
      "outputs": [
        {
          "name": "stdout",
          "output_type": "stream",
          "text": [
            "120\n"
          ]
        }
      ],
      "source": [
        "#4. Develop a program that finds the factorial of a given number using a 'for' loop.\n",
        "x=5\n",
        "factorial=1\n",
        "for i in range(1,x+1):\n",
        "    factorial*=i\n",
        "print(factorial)"
      ]
    },
    {
      "cell_type": "code",
      "execution_count": null,
      "id": "222133b8-3582-4710-9e97-956e2b56c29c",
      "metadata": {
        "id": "222133b8-3582-4710-9e97-956e2b56c29c",
        "outputId": "eb8997d8-53c2-4b37-fdbd-0dc2fbc14e2d"
      },
      "outputs": [
        {
          "name": "stdin",
          "output_type": "stream",
          "text": [
            "Enter any number :  15\n"
          ]
        },
        {
          "name": "stdout",
          "output_type": "stream",
          "text": [
            "[15, 30, 45, 60, 75, 90, 105, 120, 135, 150]\n"
          ]
        }
      ],
      "source": [
        "#5. Create a program to print the multiplication table of a given number using a 'for' loop.\n",
        "num=int(input(\"Enter any number : \"))\n",
        "lst=[]\n",
        "for i in range(1,11):\n",
        "    lst.append(num*i)\n",
        "print(lst)"
      ]
    },
    {
      "cell_type": "code",
      "execution_count": null,
      "id": "2dcc477e-a506-4b4d-8a5a-8e1a9eb9f8b7",
      "metadata": {
        "id": "2dcc477e-a506-4b4d-8a5a-8e1a9eb9f8b7",
        "outputId": "0c5f605f-b969-4160-ebcc-7a58f77b0153"
      },
      "outputs": [
        {
          "name": "stdout",
          "output_type": "stream",
          "text": [
            "The count of even 7 and odd 7 in list\n"
          ]
        }
      ],
      "source": [
        "#6. Write a program that counts the number of even and odd number in a list using a a 'for' loop.\n",
        "x=[y for y in range(1,15)]\n",
        "even_count=0\n",
        "odd_count=0\n",
        "for i in x:\n",
        "    if i%2==0:\n",
        "        even_count+=1\n",
        "    elif i%2!=0:\n",
        "        odd_count+=1\n",
        "print(f'The count of even {even_count} and odd {odd_count} in list')"
      ]
    },
    {
      "cell_type": "code",
      "execution_count": null,
      "id": "22289640-c0d9-4d4a-89ca-9f47b8b31f95",
      "metadata": {
        "id": "22289640-c0d9-4d4a-89ca-9f47b8b31f95",
        "outputId": "e13ae750-f39b-4748-8af2-574c7e8c6c56"
      },
      "outputs": [
        {
          "name": "stdout",
          "output_type": "stream",
          "text": [
            "[1, 4, 9, 16, 25]\n"
          ]
        }
      ],
      "source": [
        "#7. Develop a program that prints the squares of numbers from 1 to 5 using a `for` loop.\n",
        "square=[]\n",
        "for i in range(1,6):\n",
        "    square.append(i**2)\n",
        "print(square)"
      ]
    },
    {
      "cell_type": "code",
      "execution_count": null,
      "id": "93ff3fbe-d32e-42ee-b01f-aa135eee924b",
      "metadata": {
        "id": "93ff3fbe-d32e-42ee-b01f-aa135eee924b",
        "outputId": "a30b9649-d514-486a-c1bc-e332b16cefa1"
      },
      "outputs": [
        {
          "name": "stdin",
          "output_type": "stream",
          "text": [
            "Enter any string :  Hello World!\n"
          ]
        },
        {
          "name": "stdout",
          "output_type": "stream",
          "text": [
            "12\n"
          ]
        }
      ],
      "source": [
        "#8. Create a program to find the length of a string without using the `len()` function.\n",
        "length=0\n",
        "string=str(input(\"Enter any string : \"))\n",
        "for i in string:\n",
        "    length+=1\n",
        "print(length)"
      ]
    },
    {
      "cell_type": "code",
      "execution_count": null,
      "id": "2137ec9a-2763-4754-a1f3-4ce17acc1379",
      "metadata": {
        "id": "2137ec9a-2763-4754-a1f3-4ce17acc1379",
        "outputId": "d2b6e27f-0464-47ff-8dd7-58b92e055b1f"
      },
      "outputs": [
        {
          "name": "stdout",
          "output_type": "stream",
          "text": [
            "The average of numbers of list is 10.0\n"
          ]
        }
      ],
      "source": [
        "#9. Write a program that calculates the average of a list of numbers using a `for` loop.\n",
        "lst=[x for x in range(1,20)]\n",
        "addition=0\n",
        "length=0\n",
        "for i in lst:\n",
        "    addition+=i\n",
        "    length+=1\n",
        "print(f\"The average of numbers of list is {addition/length}\")"
      ]
    },
    {
      "cell_type": "code",
      "execution_count": null,
      "id": "bdb871d6-40e3-4df0-98eb-409ebf62df2d",
      "metadata": {
        "id": "bdb871d6-40e3-4df0-98eb-409ebf62df2d",
        "outputId": "217f36f8-26b2-4f6b-a9cf-c750a16e054e",
        "colab": {
          "base_uri": "https://localhost:8080/"
        }
      },
      "outputs": [
        {
          "output_type": "stream",
          "name": "stdout",
          "text": [
            "Enter the number :5\n",
            "0 1 1 2 3 "
          ]
        }
      ],
      "source": [
        "#10. Develop a program that prints the first `n` Fibonacci numbers using a `for` loop.\n",
        "n=int(input(\"Enter the number :\"))\n",
        "a,b=0,1\n",
        "for i in range(n):\n",
        "  print(a,end=\" \")\n",
        "  a,b=b,a+b"
      ]
    },
    {
      "cell_type": "code",
      "execution_count": null,
      "id": "8a92be2e-a9f4-41ad-8d84-bb4a72207a16",
      "metadata": {
        "id": "8a92be2e-a9f4-41ad-8d84-bb4a72207a16"
      },
      "outputs": [],
      "source": [
        "# Intermediate Level:"
      ]
    },
    {
      "cell_type": "code",
      "execution_count": null,
      "id": "9d7691d2-b6be-4d83-badb-65a800f74756",
      "metadata": {
        "id": "9d7691d2-b6be-4d83-badb-65a800f74756",
        "outputId": "3a1bda62-55da-46ae-dcd3-1e4ede57d422"
      },
      "outputs": [
        {
          "name": "stdout",
          "output_type": "stream",
          "text": [
            "{2: 2, 3: 2, 4: 2, 5: 2, 7: 2, 8: 2, 9: 2}\n"
          ]
        }
      ],
      "source": [
        "#11. Write a program to check if a given list contains any duplicates using a `for` loop.\n",
        "lst=[1,2,3,4,5,2,3,4,5,7,8,9,10,11,6,7,8,9]\n",
        "dup={}\n",
        "for i in lst:\n",
        "    if lst.count(i)>1:\n",
        "        dup[i]=lst.count(i)\n",
        "print(dup)"
      ]
    },
    {
      "cell_type": "code",
      "execution_count": null,
      "id": "b1026234-87c9-4195-b8aa-7275287951f5",
      "metadata": {
        "id": "b1026234-87c9-4195-b8aa-7275287951f5",
        "outputId": "ea649f6b-142b-4ef6-a38d-dc283c7c2728",
        "colab": {
          "base_uri": "https://localhost:8080/"
        }
      },
      "outputs": [
        {
          "output_type": "stream",
          "name": "stdout",
          "text": [
            "1 5 7 11 13 "
          ]
        }
      ],
      "source": [
        "#12. Create a program that prints the prime numbers in a given range using a `for` loop.\n",
        "for i in range(1,16):\n",
        "    if i%2!=0 and i%3!=0:\n",
        "            print(i, end=\" \")"
      ]
    },
    {
      "cell_type": "code",
      "source": [
        "#13. Develop a program that counts the number of vowels in a string using a `for` loop.\n",
        "x=\"hello world\"\n",
        "vow={}\n",
        "for i in x.lower():\n",
        "  if i in ('a','e','i','o','u'):\n",
        "    vow[i]=x.count(i)\n",
        "print(vow)"
      ],
      "metadata": {
        "id": "P9yhUpPxqfxX",
        "outputId": "3fa411aa-f13c-4299-b344-5f7d6a26b92a",
        "colab": {
          "base_uri": "https://localhost:8080/"
        }
      },
      "id": "P9yhUpPxqfxX",
      "execution_count": null,
      "outputs": [
        {
          "output_type": "stream",
          "name": "stdout",
          "text": [
            "{'e': 1, 'o': 2}\n"
          ]
        }
      ]
    },
    {
      "cell_type": "code",
      "source": [
        "#14. Write a program to find the maximum element in a 2D list using a nested `for` loop.\n",
        "y=[[10,20,30,40,50,60],[60,70,80,90,10,20,30,100]]\n",
        "max=0\n",
        "for i in y:\n",
        "  for j in i:\n",
        "    if j>max:\n",
        "      max=j\n",
        "print(max)"
      ],
      "metadata": {
        "id": "sfxRuCJTsyly",
        "outputId": "7686a68e-b45f-4909-cf90-c0abde97631e",
        "colab": {
          "base_uri": "https://localhost:8080/"
        }
      },
      "id": "sfxRuCJTsyly",
      "execution_count": null,
      "outputs": [
        {
          "output_type": "stream",
          "name": "stdout",
          "text": [
            "90\n"
          ]
        }
      ]
    },
    {
      "cell_type": "code",
      "source": [
        "#15. Create a program that removes all occurrences of a specific element from a list using a `for` loop.\n",
        "x=int(input(\"Enter any number : \"))\n",
        "y=[10,20,30,40,50,60,60,70,80,90,10,20,30,20]\n",
        "for i in y:\n",
        "  if i==x:\n",
        "    y.remove(i)\n",
        "print(y)"
      ],
      "metadata": {
        "id": "3vXZfWE3vJWj",
        "outputId": "a3db2f0b-ee31-450a-c60f-72ad6ff0756f",
        "colab": {
          "base_uri": "https://localhost:8080/"
        }
      },
      "id": "3vXZfWE3vJWj",
      "execution_count": null,
      "outputs": [
        {
          "output_type": "stream",
          "name": "stdout",
          "text": [
            "Enter any number : 10\n",
            "[20, 30, 40, 50, 60, 60, 70, 80, 90, 20, 30, 20]\n"
          ]
        }
      ]
    },
    {
      "cell_type": "code",
      "source": [
        "#16. Develop a program that generates a multiplication table for numbers from 1 to 5 using a nested `for` loop.\n",
        "for i in range(1,6):\n",
        "  for j in range(1,11):\n",
        "    print(i*j,end=\"\\t\")\n",
        "  print()"
      ],
      "metadata": {
        "id": "AsjCrOIxwLph",
        "outputId": "db1b5eb6-3942-4f58-880c-fc9a2bf80ce4",
        "colab": {
          "base_uri": "https://localhost:8080/"
        }
      },
      "id": "AsjCrOIxwLph",
      "execution_count": null,
      "outputs": [
        {
          "output_type": "stream",
          "name": "stdout",
          "text": [
            "1\t2\t3\t4\t5\t6\t7\t8\t9\t10\t\n",
            "2\t4\t6\t8\t10\t12\t14\t16\t18\t20\t\n",
            "3\t6\t9\t12\t15\t18\t21\t24\t27\t30\t\n",
            "4\t8\t12\t16\t20\t24\t28\t32\t36\t40\t\n",
            "5\t10\t15\t20\t25\t30\t35\t40\t45\t50\t\n"
          ]
        }
      ]
    },
    {
      "cell_type": "code",
      "source": [
        "#17. Write a program that converts a list of Fahrenheit temperatures to Celsius using a `for` loop.\n",
        "z=[50,55,43,65,15,95,90,80]\n",
        "for i in z:\n",
        "  celsius=(i-32)*5/9\n",
        "  print(f'{celsius:.2f}')"
      ],
      "metadata": {
        "id": "XxuQ5ArUxuO8",
        "outputId": "c5e39ce3-7f9b-44d1-e1b3-1567cca28f9e",
        "colab": {
          "base_uri": "https://localhost:8080/"
        }
      },
      "id": "XxuQ5ArUxuO8",
      "execution_count": null,
      "outputs": [
        {
          "output_type": "stream",
          "name": "stdout",
          "text": [
            "10.00\n",
            "12.78\n",
            "6.11\n",
            "18.33\n",
            "-9.44\n",
            "35.00\n",
            "32.22\n",
            "26.67\n"
          ]
        }
      ]
    },
    {
      "cell_type": "code",
      "source": [
        "#18. Create a program to print the common elements from two lists using a `for` loop.\n",
        "x=[1,2,4,5,6,7,8,9]\n",
        "y=[1,2,3,4,5,6,10]\n",
        "for i in x:\n",
        "  if i in y:\n",
        "    print(i,end=\" \")\n"
      ],
      "metadata": {
        "id": "o81GyKpR0mjM",
        "outputId": "e47db62c-4738-4cb6-c35c-14ae079396d3",
        "colab": {
          "base_uri": "https://localhost:8080/"
        }
      },
      "id": "o81GyKpR0mjM",
      "execution_count": null,
      "outputs": [
        {
          "output_type": "stream",
          "name": "stdout",
          "text": [
            "1 2 4 5 6 "
          ]
        }
      ]
    },
    {
      "cell_type": "code",
      "source": [
        "#19. Develop a program that prints the pattern of right-angled triangles using a `for` loop. Use ‘*’ to draw the pattern\n",
        "n=5\n",
        "for i in range(1,n):\n",
        "  for j in range(i):\n",
        "    print(\"*\",end=\" \")\n",
        "  print()"
      ],
      "metadata": {
        "id": "n0UDClcg3bKM",
        "outputId": "43e6db2a-18e5-4c3d-ff3a-da9c0e54bb0f",
        "colab": {
          "base_uri": "https://localhost:8080/"
        }
      },
      "id": "n0UDClcg3bKM",
      "execution_count": null,
      "outputs": [
        {
          "output_type": "stream",
          "name": "stdout",
          "text": [
            "* \n",
            "* * \n",
            "* * * \n",
            "* * * * \n"
          ]
        }
      ]
    },
    {
      "cell_type": "code",
      "source": [
        "#20. Write a program to find the greatest common divisor (GCD) of two numbers using a `for` loop.\n",
        "x=int(input(\"Enter first number : \"))\n",
        "y=int(input(\"Enter second number : \"))\n",
        "GCD=0\n",
        "for i in range(min(x,y),0,-1):\n",
        "  if x%i==0 and y%i==0:\n",
        "     GCD=i\n",
        "#print(min(x,y))\n",
        "#print(f'GCD of {x} and {y} is {GCD}')"
      ],
      "metadata": {
        "id": "rL97iJQG39sj",
        "outputId": "e20d2801-f17a-4078-c2d8-947c41e4ebab",
        "colab": {
          "base_uri": "https://localhost:8080/"
        }
      },
      "id": "rL97iJQG39sj",
      "execution_count": 4,
      "outputs": [
        {
          "output_type": "stream",
          "name": "stdout",
          "text": [
            "Enter first number : 48\n",
            "Enter second number : 18\n",
            "6\n",
            "3\n",
            "2\n",
            "1\n"
          ]
        }
      ]
    },
    {
      "cell_type": "code",
      "source": [],
      "metadata": {
        "id": "vkI49vDN9d1m"
      },
      "id": "vkI49vDN9d1m",
      "execution_count": null,
      "outputs": []
    }
  ],
  "metadata": {
    "kernelspec": {
      "display_name": "Python 3 (ipykernel)",
      "language": "python",
      "name": "python3"
    },
    "language_info": {
      "codemirror_mode": {
        "name": "ipython",
        "version": 3
      },
      "file_extension": ".py",
      "mimetype": "text/x-python",
      "name": "python",
      "nbconvert_exporter": "python",
      "pygments_lexer": "ipython3",
      "version": "3.12.7"
    },
    "colab": {
      "provenance": []
    }
  },
  "nbformat": 4,
  "nbformat_minor": 5
}