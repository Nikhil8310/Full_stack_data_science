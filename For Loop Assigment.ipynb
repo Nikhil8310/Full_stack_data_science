{
 "cells": [
  {
   "cell_type": "code",
   "execution_count": 1,
   "id": "04c45bcb-1ca7-46c3-9ba1-c506b72cde07",
   "metadata": {},
   "outputs": [],
   "source": [
    "# Basic Level:"
   ]
  },
  {
   "cell_type": "code",
   "execution_count": 2,
   "id": "86d292df-d9d8-452e-a4de-182f4d87b6ba",
   "metadata": {},
   "outputs": [
    {
     "name": "stdout",
     "output_type": "stream",
     "text": [
      "1 2 3 4 5 6 7 8 9 10 "
     ]
    }
   ],
   "source": [
    "#1. Write a python program to print the numbers from 1 to 10 using a 'for' loop.\n",
    "for i in range(1,11):\n",
    "    print(i,end=\" \")\n"
   ]
  },
  {
   "cell_type": "code",
   "execution_count": 3,
   "id": "61f99806-2eda-4925-b2b3-0553772a5346",
   "metadata": {},
   "outputs": [
    {
     "name": "stdout",
     "output_type": "stream",
     "text": [
      "[1, 2, 3, 4, 5, 6, 7, 8, 9, 10]\n",
      "55\n"
     ]
    }
   ],
   "source": [
    "#2. Create a program that calculates the sum of all numbers in a list using a 'for' loop.\n",
    "lst=[x for x in range(1,11)]\n",
    "addition=0\n",
    "for i in lst:\n",
    "    addition+=i\n",
    "print(lst)\n",
    "print(addition)"
   ]
  },
  {
   "cell_type": "code",
   "execution_count": 4,
   "id": "db76ed36-46a6-4867-976e-1a8d75d5a1da",
   "metadata": {},
   "outputs": [
    {
     "name": "stdout",
     "output_type": "stream",
     "text": [
      "d l r o W   o l l e H "
     ]
    }
   ],
   "source": [
    "#3. Write a program to print the characters of a string in reverse order using a 'for' loop.\n",
    "y=\"Hello World\"\n",
    "for i in y[::-1]:\n",
    "    print(i,end=\" \")"
   ]
  },
  {
   "cell_type": "code",
   "execution_count": 5,
   "id": "1e771514-28c2-486f-8a1c-885519a4e43a",
   "metadata": {},
   "outputs": [
    {
     "name": "stdout",
     "output_type": "stream",
     "text": [
      "120\n"
     ]
    }
   ],
   "source": [
    "#4. Develop a program that finds the factorial of a given number using a 'for' loop.\n",
    "x=5\n",
    "factorial=1\n",
    "for i in range(1,x+1):\n",
    "    factorial*=i\n",
    "print(factorial)"
   ]
  },
  {
   "cell_type": "code",
   "execution_count": 6,
   "id": "222133b8-3582-4710-9e97-956e2b56c29c",
   "metadata": {},
   "outputs": [
    {
     "name": "stdin",
     "output_type": "stream",
     "text": [
      "Enter any number :  4\n"
     ]
    },
    {
     "name": "stdout",
     "output_type": "stream",
     "text": [
      "[4, 8, 12, 16, 20, 24, 28, 32, 36, 40]\n"
     ]
    }
   ],
   "source": [
    "#5. Create a program to print the multiplication table of a given number using a 'for' loop.\n",
    "num=int(input(\"Enter any number : \"))\n",
    "lst=[]\n",
    "for i in range(1,11):\n",
    "    lst.append(num*i)\n",
    "print(lst)"
   ]
  },
  {
   "cell_type": "code",
   "execution_count": 7,
   "id": "2dcc477e-a506-4b4d-8a5a-8e1a9eb9f8b7",
   "metadata": {},
   "outputs": [
    {
     "name": "stdout",
     "output_type": "stream",
     "text": [
      "The count of even 7 and odd 7 in list\n"
     ]
    }
   ],
   "source": [
    "#6. Write a program that counts the number of even and odd number in a list using a a 'for' loop.\n",
    "x=[y for y in range(1,15)]\n",
    "even_count=0\n",
    "odd_count=0\n",
    "for i in x:\n",
    "    if i%2==0:\n",
    "        even_count+=1\n",
    "    elif i%2!=0:\n",
    "        odd_count+=1\n",
    "print(f'The count of even {even_count} and odd {odd_count} in list')"
   ]
  },
  {
   "cell_type": "code",
   "execution_count": 8,
   "id": "22289640-c0d9-4d4a-89ca-9f47b8b31f95",
   "metadata": {},
   "outputs": [
    {
     "name": "stdout",
     "output_type": "stream",
     "text": [
      "[1, 4, 9, 16, 25]\n"
     ]
    }
   ],
   "source": [
    "#7. Develop a program that prints the squares of numbers from 1 to 5 using a `for` loop.\n",
    "square=[]\n",
    "for i in range(1,6):\n",
    "    square.append(i**2)\n",
    "print(square)"
   ]
  },
  {
   "cell_type": "code",
   "execution_count": 9,
   "id": "93ff3fbe-d32e-42ee-b01f-aa135eee924b",
   "metadata": {},
   "outputs": [
    {
     "name": "stdin",
     "output_type": "stream",
     "text": [
      "Enter any string :  Hello\n"
     ]
    },
    {
     "name": "stdout",
     "output_type": "stream",
     "text": [
      "5\n"
     ]
    }
   ],
   "source": [
    "#8. Create a program to find the length of a string without using the `len()` function.\n",
    "length=0\n",
    "string=str(input(\"Enter any string : \"))\n",
    "for i in string:\n",
    "    length+=1\n",
    "print(length)"
   ]
  },
  {
   "cell_type": "code",
   "execution_count": 10,
   "id": "2137ec9a-2763-4754-a1f3-4ce17acc1379",
   "metadata": {},
   "outputs": [
    {
     "name": "stdout",
     "output_type": "stream",
     "text": [
      "The average of numbers of list is 10.0\n"
     ]
    }
   ],
   "source": [
    "#9. Write a program that calculates the average of a list of numbers using a `for` loop.\n",
    "lst=[x for x in range(1,20)]\n",
    "addition=0\n",
    "length=0\n",
    "for i in lst:\n",
    "    addition+=i\n",
    "    length+=1\n",
    "print(f\"The average of numbers of list is {addition/length}\")"
   ]
  },
  {
   "cell_type": "code",
   "execution_count": 11,
   "id": "bdb871d6-40e3-4df0-98eb-409ebf62df2d",
   "metadata": {},
   "outputs": [
    {
     "name": "stdin",
     "output_type": "stream",
     "text": [
      "Enter the number : 4\n"
     ]
    },
    {
     "name": "stdout",
     "output_type": "stream",
     "text": [
      "0 1 1 2 "
     ]
    }
   ],
   "source": [
    "#10. Develop a program that prints the first `n` Fibonacci numbers using a `for` loop.\n",
    "n=int(input(\"Enter the number :\"))\n",
    "a,b=0,1\n",
    "for i in range(n):\n",
    "  print(a,end=\" \")\n",
    "  a,b=b,a+b"
   ]
  },
  {
   "cell_type": "code",
   "execution_count": 12,
   "id": "8a92be2e-a9f4-41ad-8d84-bb4a72207a16",
   "metadata": {},
   "outputs": [],
   "source": [
    "# Intermediate Level:"
   ]
  },
  {
   "cell_type": "code",
   "execution_count": 13,
   "id": "9d7691d2-b6be-4d83-badb-65a800f74756",
   "metadata": {},
   "outputs": [
    {
     "name": "stdout",
     "output_type": "stream",
     "text": [
      "{2: 2, 3: 2, 4: 2, 5: 2, 7: 2, 8: 2, 9: 2}\n"
     ]
    }
   ],
   "source": [
    "# 11. Write a program to check if a given list contains any duplicates using a `for` loop.\n",
    "lst=[1,2,3,4,5,2,3,4,5,7,8,9,10,11,6,7,8,9]\n",
    "dup={}\n",
    "for i in lst:\n",
    "    if lst.count(i)>1:\n",
    "        dup[i]=lst.count(i)\n",
    "print(dup)"
   ]
  },
  {
   "cell_type": "code",
   "execution_count": 21,
   "id": "b1026234-87c9-4195-b8aa-7275287951f5",
   "metadata": {},
   "outputs": [
    {
     "name": "stdout",
     "output_type": "stream",
     "text": [
      "1 2 3 5 7 11 13 "
     ]
    }
   ],
   "source": [
    "# 12. Create a program that prints the prime numbers in a given range using a `for` loop.\n",
    "for i in range(1,15):\n",
    "    for j in range(2, int(i**0.5) + 1):\n",
    "        if i % j == 0:\n",
    "            break\n",
    "    else:    \n",
    "        print(i, end=\" \")"
   ]
  },
  {
   "cell_type": "code",
   "execution_count": 22,
   "id": "f39f1f81-5fb1-4e02-bbfb-3cd01e36d1a9",
   "metadata": {},
   "outputs": [
    {
     "name": "stdout",
     "output_type": "stream",
     "text": [
      "{'e': 1, 'o': 2}\n"
     ]
    }
   ],
   "source": [
    "#13. Develop a program that counts the number of vowels in a string using a `for` loop.\n",
    "x=\"hello world\"\n",
    "vow={}\n",
    "for i in x.lower():\n",
    "  if i in ('a','e','i','o','u'):\n",
    "    vow[i]=x.count(i)\n",
    "print(vow)"
   ]
  },
  {
   "cell_type": "code",
   "execution_count": 23,
   "id": "c3cc1615-c8d7-4097-9860-fdbbe06f787b",
   "metadata": {},
   "outputs": [
    {
     "name": "stdout",
     "output_type": "stream",
     "text": [
      "100\n"
     ]
    }
   ],
   "source": [
    "#14. Write a program to find the maximum element in a 2D list using a nested `for` loop.\n",
    "y=[[10,20,30,40,50,60],[60,70,80,90,10,20,30,100]]\n",
    "max=0\n",
    "for i in y:\n",
    "  for j in i:\n",
    "    if j>max:\n",
    "      max=j\n",
    "print(max)"
   ]
  },
  {
   "cell_type": "code",
   "execution_count": 24,
   "id": "f8e54339-5d99-4968-9c5e-2690784d3436",
   "metadata": {},
   "outputs": [
    {
     "name": "stdin",
     "output_type": "stream",
     "text": [
      "Enter any number :  10\n"
     ]
    },
    {
     "name": "stdout",
     "output_type": "stream",
     "text": [
      "[20, 30, 40, 50, 60, 60, 70, 80, 90, 20, 30, 20]\n"
     ]
    }
   ],
   "source": [
    "#15. Create a program that removes all occurrences of a specific element from a list using a `for` loop.\n",
    "x=int(input(\"Enter any number : \"))\n",
    "y=[10,20,30,40,50,60,60,70,80,90,10,20,30,20]\n",
    "for i in y:\n",
    "  if i==x:\n",
    "    y.remove(i)\n",
    "print(y)"
   ]
  },
  {
   "cell_type": "code",
   "execution_count": 25,
   "id": "3effc6f7-e34b-4cb7-9911-cd3efe8c65b9",
   "metadata": {},
   "outputs": [
    {
     "name": "stdout",
     "output_type": "stream",
     "text": [
      "1\t2\t3\t4\t5\t6\t7\t8\t9\t10\t\n",
      "2\t4\t6\t8\t10\t12\t14\t16\t18\t20\t\n",
      "3\t6\t9\t12\t15\t18\t21\t24\t27\t30\t\n",
      "4\t8\t12\t16\t20\t24\t28\t32\t36\t40\t\n",
      "5\t10\t15\t20\t25\t30\t35\t40\t45\t50\t\n"
     ]
    }
   ],
   "source": [
    "#16. Develop a program that generates a multiplication table for numbers from 1 to 5 using a nested `for` loop.\n",
    "for i in range(1,6):\n",
    "  for j in range(1,11):\n",
    "    print(i*j,end=\"\\t\")\n",
    "  print()"
   ]
  },
  {
   "cell_type": "code",
   "execution_count": null,
   "id": "0016e54c-4abe-4812-8ba8-d23f07702658",
   "metadata": {},
   "outputs": [],
   "source": [
    "#17. Write a program that converts a list of Fahrenheit temperatures to Celsius using a `for` loop.\n",
    "z=[50,55,43,65,15,95,90,80]\n",
    "for i in z:\n",
    "  celsius=(i-32)*5/9\n",
    "  print(f'{celsius:.2f}')"
   ]
  },
  {
   "cell_type": "code",
   "execution_count": 26,
   "id": "08c71e15-7256-4ed9-88ff-d71477b01dd3",
   "metadata": {},
   "outputs": [
    {
     "name": "stdout",
     "output_type": "stream",
     "text": [
      "1 2 4 5 6 "
     ]
    }
   ],
   "source": [
    "#18. Create a program to print the common elements from two lists using a `for` loop.\n",
    "x=[1,2,4,5,6,7,8,9]\n",
    "y=[1,2,3,4,5,6,10]\n",
    "for i in x:\n",
    "  if i in y:\n",
    "    print(i,end=\" \")"
   ]
  },
  {
   "cell_type": "code",
   "execution_count": 27,
   "id": "d498abfd-081e-4fcb-8c23-eebb822edcdf",
   "metadata": {},
   "outputs": [
    {
     "name": "stdout",
     "output_type": "stream",
     "text": [
      "* \n",
      "* * \n",
      "* * * \n",
      "* * * * \n"
     ]
    }
   ],
   "source": [
    "#19. Develop a program that prints the pattern of right-angled triangles using a `for` loop. Use ‘*’ to draw the pattern\n",
    "n=5\n",
    "for i in range(1,n):\n",
    "  for j in range(i):\n",
    "    print(\"*\",end=\" \")\n",
    "  print()"
   ]
  },
  {
   "cell_type": "code",
   "execution_count": 37,
   "id": "de097a63-8522-4403-aa57-1264bd8e6800",
   "metadata": {},
   "outputs": [
    {
     "name": "stdin",
     "output_type": "stream",
     "text": [
      "Enter first number :  48\n",
      "Enter second number :  18\n"
     ]
    },
    {
     "name": "stdout",
     "output_type": "stream",
     "text": [
      "GCD of 48 and 18 is 6\n"
     ]
    }
   ],
   "source": [
    "#20. Write a program to find the greatest common divisor (GCD) of two numbers using a `for` loop.\n",
    "x=int(input(\"Enter first number : \"))\n",
    "y=int(input(\"Enter second number : \"))\n",
    "GCD=1\n",
    "for i in range(min(x,y),0,-1):\n",
    "  if x%i==0 and y%i==0:\n",
    "    GCD=i\n",
    "    break\n",
    "print(f'GCD of {x} and {y} is {GCD}')"
   ]
  },
  {
   "cell_type": "code",
   "execution_count": null,
   "id": "7caade39-39c1-42f4-9611-42861f04bd3c",
   "metadata": {},
   "outputs": [],
   "source": [
    "#Advanced Level:"
   ]
  },
  {
   "cell_type": "code",
   "execution_count": 41,
   "id": "c18d9ae0-9436-4d39-8506-275b6d946384",
   "metadata": {},
   "outputs": [
    {
     "name": "stdout",
     "output_type": "stream",
     "text": [
      "[7, 8, 9, 10, 11, 3]\n"
     ]
    }
   ],
   "source": [
    "#21. Create a program that calculates the sum of the digits of numbers in a list using a list comprehension.\n",
    "dig_sum=[sum(int(i) for i in str(y)) for y in range(115,121)]\n",
    "print(dig_sum)"
   ]
  },
  {
   "cell_type": "code",
   "execution_count": 43,
   "id": "2e8307ae-3dcd-4b56-9985-0b1932c14efd",
   "metadata": {},
   "outputs": [
    {
     "name": "stdin",
     "output_type": "stream",
     "text": [
      "Enter a number:  12\n"
     ]
    },
    {
     "name": "stdout",
     "output_type": "stream",
     "text": [
      "Prime factors of 12 are: [2, 3]\n"
     ]
    }
   ],
   "source": [
    "#22. Write a program to find the prime factors of a given number using a `for` loop and list comprehension.\n",
    "num = int(input(\"Enter a number: \"))\n",
    "prime_factors = [i for i in range(2, num + 1) if num % i == 0 and all(i % j != 0 for j in range(2, int(i**0.5) + 1))]\n",
    "print(f\"Prime factors of {num} are: {prime_factors}\")"
   ]
  },
  {
   "cell_type": "code",
   "execution_count": 53,
   "id": "ebf0fd0d-dfe4-4753-88d8-57a451934c32",
   "metadata": {},
   "outputs": [
    {
     "name": "stdout",
     "output_type": "stream",
     "text": [
      "[1, 4, 6, 8, 9, 10]\n"
     ]
    }
   ],
   "source": [
    "#23. Develop a program that extracts unique elements from a list and stores them in a new list using a list comprehension\n",
    "x= [1, 2, 3, 4, 2, 3, 5, 6, 5, 7, 8, 9, 7, 10]\n",
    "y= [i for i in x if x.count(i)==1]\n",
    "print(y)"
   ]
  },
  {
   "cell_type": "code",
   "execution_count": 58,
   "id": "e23fdbe9-9873-42a1-a490-2d8a765cb260",
   "metadata": {},
   "outputs": [
    {
     "name": "stdout",
     "output_type": "stream",
     "text": [
      "[121, 131, 141]\n"
     ]
    }
   ],
   "source": [
    "#24. Create a program that generates a list of all palindromic numbers up to a specified limit using a list comprehension.\n",
    "x=[i for i in range(121,149) if str(i)==str(i)[::-1]]\n",
    "print(x)"
   ]
  },
  {
   "cell_type": "code",
   "execution_count": null,
   "id": "535af5e1-fd80-4dba-874e-4153c7841e47",
   "metadata": {},
   "outputs": [],
   "source": []
  },
  {
   "cell_type": "code",
   "execution_count": null,
   "id": "8267a223-3f02-4123-82eb-4c07d254c7c5",
   "metadata": {},
   "outputs": [],
   "source": []
  },
  {
   "cell_type": "code",
   "execution_count": null,
   "id": "8608eaa4-4ba1-4a30-b9e5-be3865643773",
   "metadata": {},
   "outputs": [],
   "source": []
  },
  {
   "cell_type": "code",
   "execution_count": null,
   "id": "319f7f45-9941-4f09-a4f4-875a4eb25772",
   "metadata": {},
   "outputs": [],
   "source": []
  }
 ],
 "metadata": {
  "kernelspec": {
   "display_name": "Python 3 (ipykernel)",
   "language": "python",
   "name": "python3"
  },
  "language_info": {
   "codemirror_mode": {
    "name": "ipython",
    "version": 3
   },
   "file_extension": ".py",
   "mimetype": "text/x-python",
   "name": "python",
   "nbconvert_exporter": "python",
   "pygments_lexer": "ipython3",
   "version": "3.12.7"
  }
 },
 "nbformat": 4,
 "nbformat_minor": 5
}
